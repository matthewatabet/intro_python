{
 "cells": [
  {
   "cell_type": "markdown",
   "metadata": {
    "slideshow": {
     "slide_type": "slide"
    }
   },
   "source": [
    "# Introduction to Python\n",
    "## Session 2"
   ]
  },
  {
   "cell_type": "markdown",
   "metadata": {
    "slideshow": {
     "slide_type": "slide"
    }
   },
   "source": [
    "## Control Structures\n",
    "Allow software to *make choices* and *repeat instructions*."
   ]
  },
  {
   "cell_type": "markdown",
   "metadata": {
    "slideshow": {
     "slide_type": "slide"
    }
   },
   "source": [
    "## The if statement\n",
    "Evaluate an expression to choose between multiple execution paths."
   ]
  },
  {
   "cell_type": "code",
   "execution_count": null,
   "metadata": {
    "collapsed": false
   },
   "outputs": [],
   "source": [
    "x = 5\n",
    "if x % 2:\n",
    "    print 'Odd'\n",
    "else:  # if statements do no require an else clause\n",
    "    print 'Even'"
   ]
  },
  {
   "cell_type": "markdown",
   "metadata": {
    "slideshow": {
     "slide_type": "slide"
    }
   },
   "source": [
    "## The elif clause\n",
    "Supports multiple branches within an `if` statement."
   ]
  },
  {
   "cell_type": "code",
   "execution_count": null,
   "metadata": {
    "collapsed": true
   },
   "outputs": [],
   "source": [
    "color = 'red'\n",
    "if color == 'red':\n",
    "    print 'Stop'\n",
    "elif color == 'green':  # You can have as many elifs as you want.\n",
    "    print 'Go'\n",
    "elif color == 'yellow':\n",
    "    print 'Faster!'\n",
    "else:\n",
    "    print '???'"
   ]
  },
  {
   "cell_type": "markdown",
   "metadata": {
    "slideshow": {
     "slide_type": "slide"
    }
   },
   "source": [
    "## The for loop\n",
    "Run a block of code a definite number of times."
   ]
  },
  {
   "cell_type": "code",
   "execution_count": 10,
   "metadata": {
    "collapsed": false
   },
   "outputs": [
    {
     "name": "stdout",
     "output_type": "stream",
     "text": [
      "0\n",
      "1\n",
      "2\n"
     ]
    }
   ],
   "source": [
    "for i in range(0, 3):\n",
    "    print i"
   ]
  },
  {
   "cell_type": "code",
   "execution_count": 11,
   "metadata": {
    "collapsed": false
   },
   "outputs": [
    {
     "name": "stdout",
     "output_type": "stream",
     "text": [
      "0\n",
      "1\n",
      "2\n"
     ]
    }
   ],
   "source": [
    "for i in [0, 1, 2]:\n",
    "    print i"
   ]
  },
  {
   "cell_type": "markdown",
   "metadata": {
    "slideshow": {
     "slide_type": "slide"
    }
   },
   "source": [
    "## The while loop\n",
    "Run a block of code *while* some expression is `True`."
   ]
  },
  {
   "cell_type": "code",
   "execution_count": null,
   "metadata": {
    "collapsed": false
   },
   "outputs": [],
   "source": [
    "while raw_input('Stop?') != 'y':\n",
    "    print 'Continuing...'"
   ]
  },
  {
   "cell_type": "markdown",
   "metadata": {
    "slideshow": {
     "slide_type": "slide"
    }
   },
   "source": [
    "## More about functions"
   ]
  },
  {
   "cell_type": "markdown",
   "metadata": {
    "slideshow": {
     "slide_type": "slide"
    }
   },
   "source": [
    "## Multiple returns\n",
    "Functions may use tuples to return more than one value."
   ]
  },
  {
   "cell_type": "code",
   "execution_count": null,
   "metadata": {
    "collapsed": false
   },
   "outputs": [],
   "source": [
    "def long_division(x, y):\n",
    "    \"\"\"\n",
    "    Divide x by y, returning both the quotient and the remainder.\n",
    "    \"\"\"\n",
    "    q = x / y  # Quotient\n",
    "    r = x % y  # Remainder\n",
    "    return q, r\n",
    "\n",
    "q, r = long_division(16, 5)\n",
    "print q\n",
    "print r"
   ]
  },
  {
   "cell_type": "markdown",
   "metadata": {
    "slideshow": {
     "slide_type": "slide"
    }
   },
   "source": [
    "## Keyword arguments\n",
    "Keyword arguments are named, *optional* arguments with *defaults*. These appear after *positional* arguments."
   ]
  },
  {
   "cell_type": "code",
   "execution_count": null,
   "metadata": {
    "collapsed": false
   },
   "outputs": [],
   "source": [
    "def power(x, y=2):\n",
    "    return x**y\n",
    "\n",
    "power(3)"
   ]
  },
  {
   "cell_type": "code",
   "execution_count": null,
   "metadata": {
    "collapsed": false
   },
   "outputs": [],
   "source": [
    "power(3, y=4)"
   ]
  },
  {
   "cell_type": "code",
   "execution_count": null,
   "metadata": {
    "collapsed": false
   },
   "outputs": [],
   "source": [
    "power(3, 5)"
   ]
  },
  {
   "cell_type": "markdown",
   "metadata": {
    "slideshow": {
     "slide_type": "slide"
    }
   },
   "source": [
    "## Working with files"
   ]
  },
  {
   "cell_type": "markdown",
   "metadata": {
    "slideshow": {
     "slide_type": "slide"
    }
   },
   "source": [
    "## Reading from a file\n",
    "We interact with files on disk using file handles."
   ]
  },
  {
   "cell_type": "code",
   "execution_count": null,
   "metadata": {
    "collapsed": true
   },
   "outputs": [],
   "source": [
    "f = open('file_a.txt')\n",
    "print f.read()  # Read all data from the file\n",
    "f.close()"
   ]
  },
  {
   "cell_type": "code",
   "execution_count": null,
   "metadata": {
    "collapsed": false
   },
   "outputs": [],
   "source": [
    "f = open('file_a.txt')\n",
    "for line in f:  # Read file one line at a time\n",
    "    print line\n",
    "f.close()"
   ]
  },
  {
   "cell_type": "markdown",
   "metadata": {
    "collapsed": true,
    "slideshow": {
     "slide_type": "slide"
    }
   },
   "source": [
    "## Context managers and files\n",
    "A more convenient way to open a file is using the `with` statement. This clause creates a context manager which automatically closes the handle."
   ]
  },
  {
   "cell_type": "code",
   "execution_count": null,
   "metadata": {
    "collapsed": false
   },
   "outputs": [],
   "source": [
    "with open('file_a.txt') as f:\n",
    "    print f.read()"
   ]
  },
  {
   "cell_type": "markdown",
   "metadata": {
    "slideshow": {
     "slide_type": "slide"
    }
   },
   "source": [
    "## Writing to a file\n",
    "Use mode `'w'` when opening a file for writing."
   ]
  },
  {
   "cell_type": "code",
   "execution_count": null,
   "metadata": {
    "collapsed": false
   },
   "outputs": [],
   "source": [
    "text = raw_input('May I take a note? : ')\n",
    "with open('note.txt', 'w') as f:\n",
    "    f.write(text)"
   ]
  },
  {
   "cell_type": "code",
   "execution_count": null,
   "metadata": {
    "collapsed": false
   },
   "outputs": [],
   "source": [
    "with open('note.txt') as f:\n",
    "    print f.read()"
   ]
  },
  {
   "cell_type": "markdown",
   "metadata": {
    "slideshow": {
     "slide_type": "slide"
    }
   },
   "source": [
    "## The import statement\n",
    "Loads a Python *module* or *package*, providing extended functionality."
   ]
  },
  {
   "cell_type": "code",
   "execution_count": null,
   "metadata": {
    "collapsed": true
   },
   "outputs": [],
   "source": [
    "import time\n",
    "print time.time()  # Get the current time"
   ]
  },
  {
   "cell_type": "code",
   "execution_count": null,
   "metadata": {
    "collapsed": false
   },
   "outputs": [],
   "source": [
    "import os\n",
    "print os.path.abspath('file_a.txt')  # Get the full path to a file"
   ]
  },
  {
   "cell_type": "code",
   "execution_count": null,
   "metadata": {
    "collapsed": false
   },
   "outputs": [],
   "source": [
    "import random\n",
    "print random.random()  # Generate a random number"
   ]
  },
  {
   "cell_type": "markdown",
   "metadata": {
    "slideshow": {
     "slide_type": "slide"
    }
   },
   "source": [
    "## The PYTHONPATH\n",
    "Python searches for modules along a list of directories which are stored in sys.path:"
   ]
  },
  {
   "cell_type": "code",
   "execution_count": null,
   "metadata": {
    "collapsed": false
   },
   "outputs": [],
   "source": [
    "import sys\n",
    "print sys.path"
   ]
  },
  {
   "cell_type": "markdown",
   "metadata": {},
   "source": [
    "It's generally possible to adjust `sys.path` by setting the `PYTHONPATH` environment variable."
   ]
  },
  {
   "cell_type": "markdown",
   "metadata": {
    "slideshow": {
     "slide_type": "slide"
    }
   },
   "source": [
    "## Subprocesses\n",
    "The `subprocess` module allows Python to interact with external processes."
   ]
  },
  {
   "cell_type": "code",
   "execution_count": null,
   "metadata": {
    "collapsed": false
   },
   "outputs": [],
   "source": [
    "import subprocess\n",
    "subprocess.check_output(['ls', '-l'])  # Requires Python 2.7+"
   ]
  },
  {
   "cell_type": "markdown",
   "metadata": {
    "slideshow": {
     "slide_type": "slide"
    }
   },
   "source": [
    "## Argument parsing\n",
    "`argparse` is useful when gathering user input in the form of command line options."
   ]
  },
  {
   "cell_type": "code",
   "execution_count": null,
   "metadata": {
    "collapsed": false
   },
   "outputs": [],
   "source": [
    "import argparse\n",
    "parser = argparse.ArgumentParser()\n",
    "parser.add_argument('--verbose',\n",
    "                    action='store_true',\n",
    "                    help='Run command in verbose mode')\n",
    "args = parser.parse_args(['--verbose'])\n",
    "print args.verbose"
   ]
  },
  {
   "cell_type": "markdown",
   "metadata": {
    "slideshow": {
     "slide_type": "slide"
    }
   },
   "source": [
    "## Writing Python executables"
   ]
  },
  {
   "cell_type": "markdown",
   "metadata": {
    "slideshow": {
     "slide_type": "slide"
    }
   },
   "source": [
    "## Shebang lines\n",
    "Inform the Linux shell how a particular script should be executed.\n",
    "```python\n",
    "#!/usr/bin/env python2\n",
    "```"
   ]
  },
  {
   "cell_type": "markdown",
   "metadata": {
    "slideshow": {
     "slide_type": "slide"
    }
   },
   "source": [
    "## The __main__ clause\n",
    "Clearly defines what code should be executed when running a Python script. Separates library code from executable code.\n",
    "```python\n",
    "#!/usr/bin/env python2\n",
    "\n",
    "import sys\n",
    "\n",
    "def main():\n",
    "   # Executable logic goes here.\n",
    "   print 'hello world!'\n",
    "\n",
    "if __name__ == '__main__':\n",
    "    sys.exit(main())\n",
    "```"
   ]
  },
  {
   "cell_type": "markdown",
   "metadata": {
    "slideshow": {
     "slide_type": "slide"
    }
   },
   "source": [
    "## Exercise\n",
    "Use the Linux shell and your favorite text editor to create a simple `hello world` executable like the one from the previous slide.\n",
    "\n",
    "*Hint: you'll need to run `chmod +x` on your file to make it executable.*\n",
    "\n",
    "Black belt: Extend this executable to take a single argument, `\"--message\"` which replaces `\"hello world\"` with a user-defined message.\n",
    "\n",
    "```bash\n",
    "my_executable --message \"Hey, I'm walkin' here!\"\n",
    "```"
   ]
  },
  {
   "cell_type": "markdown",
   "metadata": {
    "slideshow": {
     "slide_type": "slide"
    }
   },
   "source": [
    "## Creating your own modules and packages\n",
    "It's possible to author your own libraries and add them to scripts using `import`.\n",
    "\n",
    "A module is a single .py file which exists along `sys.path`:\n",
    "```bash\n",
    "foo.py\n",
    "```\n",
    "\n",
    "A package is a directory which contains an `__init__.py` file:\n",
    "```bash\n",
    "bar/\n",
    "    __init__.py\n",
    "    submodule1.py\n",
    "    submodule2.py\n",
    "```\n",
    "\n",
    "We can now import these into Python:\n",
    "```python\n",
    "import foo\n",
    "import bar.submodule1\n",
    "```"
   ]
  },
  {
   "cell_type": "markdown",
   "metadata": {
    "slideshow": {
     "slide_type": "slide"
    }
   },
   "source": [
    "## Exercise\n",
    "From the shell, create both an importable module and an importable package. Then, run the Python interpreter and import your module.\n",
    "\n",
    "*Hint: Feel free to setenv PYTHONPATH to the location of your libraries.*\n",
    "*Hint: You can start the Python interpreter by running `python`*"
   ]
  },
  {
   "cell_type": "markdown",
   "metadata": {
    "slideshow": {
     "slide_type": "slide"
    }
   },
   "source": [
    "## Exercise\n",
    "Create a dice rolling program. Write an executable which takes arguments `\"--ndice\"` and `\"--nrolls\"` and then rolls that many dice that many times, printing each dice roll:\n",
    "\n",
    "```bash\n",
    "> rollem --ndice 3 --nrolls 2\n",
    "Roll 1: 2 5 3\n",
    "Roll 2: 1 7 8\n",
    "```"
   ]
  }
 ],
 "metadata": {
  "celltoolbar": "Slideshow",
  "kernelspec": {
   "display_name": "Python 2",
   "language": "python",
   "name": "python2"
  },
  "language_info": {
   "codemirror_mode": {
    "name": "ipython",
    "version": 2
   },
   "file_extension": ".py",
   "mimetype": "text/x-python",
   "name": "python",
   "nbconvert_exporter": "python",
   "pygments_lexer": "ipython2",
   "version": "2.7.10"
  }
 },
 "nbformat": 4,
 "nbformat_minor": 0
}
