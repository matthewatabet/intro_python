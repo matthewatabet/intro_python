{
 "cells": [
  {
   "cell_type": "markdown",
   "metadata": {
    "slideshow": {
     "slide_type": "slide"
    }
   },
   "source": [
    "## Intro to Python\n",
    "### Session 3"
   ]
  },
  {
   "cell_type": "markdown",
   "metadata": {
    "slideshow": {
     "slide_type": "slide"
    }
   },
   "source": [
    "## Strings from lists\n",
    "How do we remove the list markup?"
   ]
  },
  {
   "cell_type": "code",
   "execution_count": null,
   "metadata": {
    "collapsed": false
   },
   "outputs": [],
   "source": [
    "x = [1, 2, 3]\n",
    "print 'My values', x"
   ]
  },
  {
   "cell_type": "code",
   "execution_count": null,
   "metadata": {
    "collapsed": false
   },
   "outputs": [],
   "source": [
    "# Converting to strings is a good start.\n",
    "# .join() can then be used to convert to a single string.\n",
    "y = []\n",
    "for c in x:\n",
    "    y.append(str(c))\n",
    "print ' '.join(y)"
   ]
  },
  {
   "cell_type": "code",
   "execution_count": null,
   "metadata": {
    "collapsed": false
   },
   "outputs": [],
   "source": [
    "# map() can help us even more.\n",
    "y = map(str, x)\n",
    "print ' '.join(y)"
   ]
  },
  {
   "cell_type": "markdown",
   "metadata": {
    "slideshow": {
     "slide_type": "slide"
    }
   },
   "source": [
    "## Classes\n",
    "Combine *functionality* and *state*. They have *methods* and *member variables*."
   ]
  },
  {
   "cell_type": "code",
   "execution_count": null,
   "metadata": {
    "collapsed": true
   },
   "outputs": [],
   "source": [
    "class Automobile(object):\n",
    "    '''\n",
    "    The base class for all automobiles.\n",
    "    '''\n",
    "    def __init__(self, year, make, model):\n",
    "        '''\n",
    "        This special method is known as the 'class constructor.'\n",
    "        '''\n",
    "        \n",
    "        # These are class's attributes.\n",
    "        self.year = year\n",
    "        self.make = make\n",
    "        self.model = model\n",
    "\n",
    "    def drive(self):\n",
    "        '''\n",
    "        This is a method. Note that methods always take 'self' as\n",
    "        the first argument.\n",
    "        '''\n",
    "        print 'There goes a %s %s %s.' % (self.year, self.make, self.model)"
   ]
  },
  {
   "cell_type": "code",
   "execution_count": null,
   "metadata": {
    "collapsed": false
   },
   "outputs": [],
   "source": [
    "my_car = Automobile(2002, 'Ford', 'Fiesta')  # Create an instance of a class\n",
    "my_car.drive()  # Call a method on the instance"
   ]
  },
  {
   "cell_type": "code",
   "execution_count": null,
   "metadata": {
    "collapsed": false
   },
   "outputs": [],
   "source": [
    "the_car_i_wish_i_had = Automobile(2016, 'McLaren', '650S')\n",
    "the_car_i_wish_i_had.drive()"
   ]
  },
  {
   "cell_type": "markdown",
   "metadata": {
    "slideshow": {
     "slide_type": "slide"
    }
   },
   "source": [
    "## Exercise\n",
    "Create a class called `Expression` whose constructor takes two operands `a` and `b` along with an operator `op`. The class should have a method called `calculate` which returns the result of the expression."
   ]
  },
  {
   "cell_type": "code",
   "execution_count": null,
   "metadata": {
    "collapsed": true
   },
   "outputs": [],
   "source": [
    "# Write your Expression class here:"
   ]
  },
  {
   "cell_type": "code",
   "execution_count": null,
   "metadata": {
    "collapsed": true
   },
   "outputs": [],
   "source": [
    "# Test your class by running this code:\n",
    "assert(Expression(4, '-', 2).calculate() == 2)\n",
    "assert(Expression(6, '+', 1).calculate() == 7)\n",
    "assert(Expression(2, '*', 3).calculate() == 6)\n",
    "assert(Expression(4, '/', 2).calculate() == 2)"
   ]
  },
  {
   "cell_type": "markdown",
   "metadata": {
    "slideshow": {
     "slide_type": "slide"
    }
   },
   "source": [
    "## Inheritance\n",
    "Classes may derive one from another. Child classes inherit all of the methods and attributes of their parents. Children may also override attributes and methods or add new ones."
   ]
  },
  {
   "cell_type": "code",
   "execution_count": null,
   "metadata": {
    "collapsed": true
   },
   "outputs": [],
   "source": [
    "class SemiTrailer(Automobile):\n",
    "    \n",
    "    def __init__(self, year, make, model, capacity, cargo):\n",
    "        super(SemiTrailer, self).__init__(year, make, model)\n",
    "        self.capacity = capacity\n",
    "        self.cargo = cargo\n",
    "    \n",
    "    def drive(self):\n",
    "        super(SemiTrailer, self).drive()\n",
    "        print \"It's a long way across Texas.\"\n",
    "    \n",
    "    def manifest(self):\n",
    "        print 'Carrying %s of %s.' % (self.capacity, self.cargo)"
   ]
  },
  {
   "cell_type": "code",
   "execution_count": null,
   "metadata": {
    "collapsed": false
   },
   "outputs": [],
   "source": [
    "my_truck = SemiTrailer(2014, 'Mack', 'Pinnacle', '1 ton', 'Potatoes')\n",
    "my_truck.drive()\n",
    "my_truck.manifest()"
   ]
  },
  {
   "cell_type": "markdown",
   "metadata": {
    "slideshow": {
     "slide_type": "slide"
    }
   },
   "source": [
    "## Exercise\n",
    "Extend `Automobile` to create your own form of transportation. What attributes make this class unique? Override `drive`."
   ]
  },
  {
   "cell_type": "code",
   "execution_count": null,
   "metadata": {
    "collapsed": true
   },
   "outputs": [],
   "source": [
    "# Define your new Automobile class here."
   ]
  },
  {
   "cell_type": "markdown",
   "metadata": {
    "slideshow": {
     "slide_type": "slide"
    }
   },
   "source": [
    "## \"Is a\" vs. \"Has a\" relationships"
   ]
  },
  {
   "cell_type": "code",
   "execution_count": null,
   "metadata": {
    "collapsed": true
   },
   "outputs": [],
   "source": [
    "class Cat(object):\n",
    "    def __init__(self, breed):\n",
    "        self.breed = breed  # A cat \"has a\" breed\n",
    "\n",
    "class CheeseBurger(object):\n",
    "    def __init__(self, toppings):\n",
    "        self.toppings = toppings  # A cheeseburger \"has a\" list of toppings\n",
    "\n",
    "class Trotwood(Cat):  # Trotwood \"is a\" c\n",
    "    def __init__(self):\n",
    "        super(Trotwood, self).__init__('calico')\n",
    "        self.lunch = CheeseBurger(['pickles'])  # Trotwood \"has a\" CheeseBurger for lunch"
   ]
  },
  {
   "cell_type": "code",
   "execution_count": null,
   "metadata": {
    "collapsed": false
   },
   "outputs": [],
   "source": [
    "trotwood = Trotwood()\n",
    "print trotwood.breed\n",
    "print trotwood.lunch.toppings"
   ]
  }
 ],
 "metadata": {
  "celltoolbar": "Slideshow",
  "kernelspec": {
   "display_name": "Python 2",
   "language": "python",
   "name": "python2"
  },
  "language_info": {
   "codemirror_mode": {
    "name": "ipython",
    "version": 2
   },
   "file_extension": ".py",
   "mimetype": "text/x-python",
   "name": "python",
   "nbconvert_exporter": "python",
   "pygments_lexer": "ipython2",
   "version": "2.7.10"
  }
 },
 "nbformat": 4,
 "nbformat_minor": 0
}
